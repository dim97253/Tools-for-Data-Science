{
 "cells": [
  {
   "cell_type": "markdown",
   "metadata": {},
   "source": [
    "<center>\n",
    "    <img src=\"https://cf-courses-data.s3.us.cloud-object-storage.appdomain.cloud/IBMDeveloperSkillsNetwork-DS0105EN-SkillsNetwork/labs/Module2/images/SN_web_lightmode.png\" width=\"300\" alt=\"cognitiveclass.ai logo\">\n",
    "</center>\n"
   ]
  },
  {
   "cell_type": "markdown",
   "metadata": {},
   "source": [
    "<h1>Data Science Tools and Ecosystem</h1>"
   ]
  },
  {
   "cell_type": "markdown",
   "metadata": {
    "tags": []
   },
   "source": [
    "<h3>In this notebook, Data Science Tools and Ecosystem are summarized.</h3>\n",
    "Data science, often regarded as the nexus of statistics, computer science, and domain expertise, leverages a myriad of tools to convert raw data into actionable insights. At the heart of data analytics are programming languages such as Python, R, and SQL. Python, with its extensive libraries like Pandas and Scikit-learn, offers a comprehensive environment for both data manipulation and modeling. On the other hand, R has been a favorite amongst statisticians and data miners for its advanced statistical packages. SQL (Structured Query Language) stands as the cornerstone for data extraction from relational databases, allowing data scientists to query vast datasets with precision. Platforms like Jupyter Notebook have revolutionized the way analysis is conducted and shared, offering an interactive environment where code, visualizations, and narratives coexist. Speaking of visualizations, the art of plotting and graphing is integral to data science. Visualization tools and libraries aid in translating complex data findings into interpretable visuals, making insights more comprehensible. Lastly, in the realm of collaboration and version control, Git emerges as an essential tool. It not only tracks and manages changes in projects but also promotes collaborative efforts, ensuring that teams can work simultaneously without overriding each other's contributions. Together, these tools and languages form the bedrock of modern data science, enabling practitioners to derive meaningful conclusions from the chaos of raw data.\n",
    "    "
   ]
  },
  {
   "cell_type": "markdown",
   "metadata": {},
   "source": [
    "**Objectives:**\n",
    "\n",
    "- List popular languages for Data Science.\n",
    "- Introduce arithmetic expression examples in Python.\n",
    "- Demonstrate the evaluation of complex mathematical formulas.\n",
    "- Convert minutes into hours using Python.\n",
    "- Discuss popular open-source development tools for Data Science.\n"
   ]
  },
  {
   "cell_type": "markdown",
   "metadata": {},
   "source": [
    "<h3>Some of the popular languages that Data Scientists use are:</h3>\n",
    "\n",
    "1. Python\n",
    "2. R\n",
    "3. SQL\n",
    "4. Java\n",
    "5. Scala"
   ]
  },
  {
   "cell_type": "markdown",
   "metadata": {},
   "source": [
    "<h3>Some of the commonly used libraries used by Data Scientists include:</h3>\n",
    "\n",
    "1. Pandas - A Python library for data manipulation and analysis.\n",
    "2. Scikit-learn - A tool in Python that provides simple and efficient tools for predictive data analysis.\n",
    "3. TensorFlow - An open-source framework developed by Google for machine learning and deep learning tasks.\n",
    "4. Matplotlib - A Python 2D plotting library that produces figures in a variety of formats.\n",
    "5. Keras - A high-level neural networks API, written in Python and capable of running on top of TensorFlow, CNTK, or Theano.\n",
    "6. ggplot2 - A powerful and flexible R package for data visualization.\n",
    "7. Dplyr - A fast, consistent tool for working with data frame like objects, both in memory and out of memory in R.\n"
   ]
  },
  {
   "cell_type": "markdown",
   "metadata": {},
   "source": [
    "| Data Science Tools |\n",
    "|--------------------|\n",
    "| Jupyter Notebook  |\n",
    "| RStudio           |\n",
    "| Apache Zeppelin   |\n"
   ]
  },
  {
   "cell_type": "markdown",
   "metadata": {},
   "source": [
    "<h3> Below are a example of evaluating arithmetic expressions in Python: </h3>\n",
    "\n",
    "$$ x = \\frac{-b \\pm \\sqrt{b^2-4ac}}{2a} $$"
   ]
  },
  {
   "cell_type": "code",
   "execution_count": 6,
   "metadata": {
    "tags": []
   },
   "outputs": [
    {
     "data": {
      "text/plain": [
       "17"
      ]
     },
     "execution_count": 6,
     "metadata": {},
     "output_type": "execute_result"
    }
   ],
   "source": [
    "# This is a simple arithmetic expression to multiply then add integers.\n",
    "result = (3 * 4) + 5\n",
    "result"
   ]
  },
  {
   "cell_type": "code",
   "execution_count": 7,
   "metadata": {
    "tags": []
   },
   "outputs": [
    {
     "data": {
      "text/plain": [
       "3.3333333333333335"
      ]
     },
     "execution_count": 7,
     "metadata": {},
     "output_type": "execute_result"
    }
   ],
   "source": [
    "# This will convert 200 minutes to hours by dividing by 60.\n",
    "hours = 200 / 60\n",
    "hours"
   ]
  },
  {
   "cell_type": "code",
   "execution_count": null,
   "metadata": {},
   "outputs": [],
   "source": []
  }
 ],
 "metadata": {
  "kernelspec": {
   "display_name": "Python",
   "language": "python",
   "name": "conda-env-python-py"
  },
  "language_info": {
   "codemirror_mode": {
    "name": "ipython",
    "version": 3
   },
   "file_extension": ".py",
   "mimetype": "text/x-python",
   "name": "python",
   "nbconvert_exporter": "python",
   "pygments_lexer": "ipython3",
   "version": "3.7.12"
  }
 },
 "nbformat": 4,
 "nbformat_minor": 4
}
